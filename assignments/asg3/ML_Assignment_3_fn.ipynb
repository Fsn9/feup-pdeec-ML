{
  "cells": [
    {
      "attachments": {},
      "cell_type": "markdown",
      "id": "32620509",
      "metadata": {
        "id": "32620509"
      },
      "source": [
        "# Assignment 3\n",
        "\n",
        "### Student 1: Francisco Soares Pinto da Silva Neves"
      ]
    },
    {
      "cell_type": "markdown",
      "id": "c03c866e",
      "metadata": {
        "id": "c03c866e"
      },
      "source": [
        "## 1. Neural Networks"
      ]
    },
    {
      "cell_type": "markdown",
      "id": "Gz4Fd1OwAuJO",
      "metadata": {
        "id": "Gz4Fd1OwAuJO"
      },
      "source": [
        "Consider the following fully connected neural network. It consists of an input layer, three hidden layers and an output layer. The first hidden layer utilized ReLU as its non-linearity function, whereas the second uses Tanh and the last uses the Sigmoid function. The output layer also utilizes the Sigmoid function. Consider $W_1, W_2, W_3 $and $W_4$ as a set of weight parameters, $x$ as your input, $y$ as the ground-truth and $\\hat{y}$ as the network prediction/output. "
      ]
    },
    {
      "cell_type": "markdown",
      "id": "38343624",
      "metadata": {
        "id": "38343624"
      },
      "source": [
        "![Diagrama sem nome.drawio-2.png](data:image/png;base64,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)"
      ]
    },
    {
      "cell_type": "markdown",
      "id": "84c2977c",
      "metadata": {
        "id": "84c2977c"
      },
      "source": [
        "### 1.1 (Pen and Paper) \n",
        "\n",
        "##### Note that python should not be used."
      ]
    },
    {
      "cell_type": "markdown",
      "id": "41873490",
      "metadata": {
        "id": "41873490"
      },
      "source": [
        "**a)** How many parameters does this network have? Do not forget to include the bias in the three hidden layers and the output layer.  Explicitly show how you achieved your answer. "
      ]
    },
    {
      "attachments": {},
      "cell_type": "markdown",
      "id": "8fc08105",
      "metadata": {
        "id": "8fc08105"
      },
      "source": [
        "#### (1) Number of parameters for Hidden Layer 1\n",
        "Since the input layer has 5 features and the Hidden Layer 1 has 3 neurons, the total number of weight parameters is $5\\times3 = 15$. Also, there is a bias for each neuron so there are 3 bias in total. Hence, in total, the number of parameters for the Hidden Layer 1 is $15 + 3 = 18$.\n",
        "#### (2) Number of parameters for Hidden Layer 2\n",
        "Since the previous Hidden Layer 1 has 3 neurons and the Hidden Layer 2 has 2 neurons, the total number of weight parameters is $3\\times2 = 6$. Also, there is a bias for each neuron so there are 2 bias in total. Hence, in total, the number of parameters for the Hidden Layer 2 is $6 + 2 = 8$.\n",
        "#### (3) Number of parameters for Hidden Layer 3\n",
        "Since the previous Hidden Layer 2 has 2 neurons and the Hidden Layer 3 has 2 neurons, the total number of weight parameters is $2\\times2 = 4$. Also, there is a bias for each neuron so there are 2 bias in total. Hence, in total, the number of parameters for the Hidden Layer 3 is $4 + 2 = 6$.\n",
        "#### (4) Number of parameters for Output layer\n",
        "Since the previous Hidden Layer 3 has 2 neurons and the Output layer has 1 neuron, the total number of weight parameters is $2\\times1 = 2$. Also, there is a bias for each neuron so there is 1 bias in total. Hence, in total, the number of parameters is $2 + 1 = 3$.\n",
        "\n",
        "Therefore, this network has $18+8+6+3=35$ parameters.\n"
      ]
    },
    {
      "cell_type": "markdown",
      "id": "e6081895",
      "metadata": {
        "id": "e6081895"
      },
      "source": [
        "**b)** Considering the following cost/loss function $C(\\hat{y}) = \\frac{1}{2}||\\hat{y} - y||^2$, derive $\\frac{\\partial C}{\\partial W_1}$. Explicitly show the relation between $\\frac{\\partial C}{\\partial W_1}$ and $\\frac{\\partial C}{\\partial W_2}$."
      ]
    },
    {
      "attachments": {},
      "cell_type": "markdown",
      "id": "7a2a6e5d",
      "metadata": {
        "id": "7a2a6e5d"
      },
      "source": [
        "The process of tuning the parameters of neural network is described by performing backpropagation. Backpropagation is a recursive process in which, from the output layer to the first hidden layer of the network, gradient relationships of the form $\\frac{\\partial C}{\\partial W_k}$ with respect to each hidden layer $k$ are found. \n",
        "\n",
        "The feed forward propagation is the process of propagating the input values across the network, from a layer $j$ to a layer $k$ , where $j$ and $k$ are the indices of the previous layer and the next layer, respectively, and $L$ is the total number of layers in the network. This process is described by the following steps:\n",
        "1. Initialize $k = 1$ and $j = k - 1$,\n",
        "2. A weighted sum $z_k = W_k a_j$,\n",
        "3. An activation operation $h$ on $z_k$ that is $a_k = h(z_k)$, where $h$ is any activation function on a layer, assuming that every neuron of a respective layer applies the same activation function (e.g., $h(z) = sigmoid(z), h(z) = tanh(z), h(z) = max(0,z), ...$),\n",
        "4. Go back to 1, until $k = L$ and update $k = k + 1$ and $ j = j + 1$.\n",
        "\n",
        "Explicitly, the forward propagation computes the following equations, recursively: $z_1 = W_1 X$, $a_1 = \\max(0,z_1)$, $z_2 = W_2 a_1$, $a_2 = \\tanh(z_2)$, $z_3 = W_3 a_2$, $a_3 = \\sigma(z_3)$, $z_4 = W_4 a_3$ and $\\hat{y} = a_4 = \\sigma(z_4)$.\n",
        "\n",
        "The backpropagation applies the chain rule for partial derivatives $\\frac{\\partial C}{\\partial W_k}$, until the desired layer $k$.\n",
        "\n",
        "#### (1) Deriving $\\frac{\\partial C}{\\partial W_2}$\n",
        "$\\frac{\\partial C}{\\partial W_2}$ is defined by:\n",
        "$\\begin{equation}\n",
        "\\begin{split}\n",
        "    \\frac{\\partial C}{\\partial W_2} &= \\frac{\\partial C}{\\partial \\hat{y}} \\frac{\\partial \\hat{y}}{\\partial z_4} \\frac{\\partial z_4}{\\partial a_3} \\frac{\\partial a_3}{\\partial z_3} \\frac{\\partial z_3}{\\partial a_2} \\frac{\\partial a_2}{\\partial z_2} \\frac{\\partial z_2}{\\partial W_2} \\\\\n",
        "    &= (\\hat{y} - y) \\cdot \\sigma^{\\prime}(z_4) \\cdot W_4 \\cdot \\sigma^{\\prime}(z_3) \\cdot W_3 \\cdot \\tanh^{\\prime}(z_2) \\cdot a_1 \\\\\n",
        "    &= (\\hat{y} - y) \\cdot \\sigma(z_4)(1 - \\sigma(z_4)) \\cdot W_4 \\cdot \\sigma(z_3)(1 - \\sigma(z_3)) \\cdot W_3 \\cdot (1 - \\tanh(z_2)^2) \\cdot a_1,\n",
        "\\end{split}\n",
        "\\end{equation}$\n",
        "\n",
        "#### (2) Deriving $\\frac{\\partial C}{\\partial W_1}$\n",
        "$\\frac{\\partial C}{\\partial W_1}$ is defined by: \n",
        "$\\begin{equation}\n",
        "\\begin{split}\n",
        "    \\frac{\\partial C}{\\partial W_1} &= \\frac{\\partial C}{\\partial \\hat{y}} \\frac{\\partial \\hat{y}}{\\partial z_4} \\frac{\\partial z_4}{\\partial a_3} \\frac{\\partial a_3}{\\partial z_3} \\frac{\\partial z_3}{\\partial a_2} \\frac{\\partial a_2}{\\partial z_2} \\frac{\\partial z_2}{\\partial a_1} \\frac{\\partial a_1}{\\partial z_1} \\frac{\\partial z_1}{\\partial W_1}\\\\\n",
        "    &= (\\hat{y} - y) \\cdot \\sigma^{\\prime}(z_4) \\cdot W_4 \\cdot \\sigma^{\\prime}(z_3) \\cdot W_3 \\cdot \\tanh^{\\prime}(z_2) \\cdot W_2 \\cdot ReLU^{\\prime}(z_1\n",
        "    ) \\cdot X\\\\\n",
        "    &= (\\hat{y} - y) \\cdot \\sigma(z_4)(1 - \\sigma(z_4)) \\cdot W_4 \\cdot \\sigma(z_3)(1 - \\sigma(z_3)) \\cdot W_3 \\cdot (1 - \\tanh(z_2)^2) \\cdot W_2 \\cdot \\left(\\begin{cases}\n",
        "        1 & \\text{if } z_1 \\ge 0\\\\\n",
        "        0 & \\text{if } z_1 < 0\n",
        "    \\end{cases}\\right) \\cdot X,\n",
        "\\end{split}\n",
        "\\end{equation}$\n",
        "where $\\sigma(z_i) = \\frac{1}{1 + e^{-z_i}}$, $\\tanh(z_i) = \\frac{e^{z_i} - e^{-z_i}}{e^{z_i} + e^{-z_i}}$ and $ReLU(z_i) = \\max(0,z_i)$.\n",
        "\n",
        "#### (3) Relationship between $\\frac{\\partial C}{\\partial W_1}$ and $\\frac{\\partial C}{\\partial W_2}$\n",
        "Finally, the following relationship between $\\frac{\\partial C}{\\partial W_1}$ and $\\frac{\\partial C}{\\partial W_2}$ is described by:\n",
        "$\\begin{equation}\n",
        "\\begin{split}\n",
        "    \\frac{\\partial z_2}{\\partial W_2} \\frac{\\partial C}{\\partial W_1} &= \\frac{\\partial z_2}{\\partial a_1} \\frac{\\partial a_1}{\\partial z_1} \\frac{\\partial z_1}{\\partial W_1} \\frac{\\partial C}{\\partial W_2} \\\\\n",
        "    \\frac{\\partial C}{\\partial W_1} &= \\frac{\\frac{\\partial z_2}{\\partial a_1} \\frac{\\partial a_1}{\\partial z_1} \\frac{\\partial z_1}{\\partial W_1}}{\\frac{\\partial z_2}{\\partial W_2}} \\frac{\\partial C}{\\partial W_2} \\\\\n",
        "    \\frac{\\partial C}{\\partial W_1} &= \\frac{W_2 \\cdot ReLU(z_1) \\cdot X}{a_1} \\frac{\\partial C}{\\partial W_2}\n",
        "\\end{split}\n",
        "\\end{equation}$\n"
      ]
    },
    {
      "cell_type": "markdown",
      "id": "bApYDeOtEBE4",
      "metadata": {
        "id": "bApYDeOtEBE4"
      },
      "source": [
        "**c)** What is the behaviour of the network if we initialize all weights to zero? What causes such behaviour? "
      ]
    },
    {
      "attachments": {},
      "cell_type": "markdown",
      "id": "8nBV9sWOEanj",
      "metadata": {
        "id": "8nBV9sWOEanj"
      },
      "source": [
        "If all weights are initialized to zero, such as $W_1 = W_2 = W_3 = W_4 = \\vec{0}$, the backpropagation never \"moves\" and thus the neural network never learns. \n",
        "Zero vector weights produce zero derivatives during backpropagation $\\frac{\\partial C}{W_i} = 0, \\forall i \\in \\{1,4\\}$, e.g.,: $\\frac{\\partial C}{\\partial W_1} = \\frac{0 \\cdot ReLU(z_1) \\cdot X}{a_1} \\frac{\\partial C}{\\partial W_2} = 0$.\n",
        "Thus, the literature suggests random initialization of weights near zero and never zero. Additionally, for certain activation functions such as the sigmoid or the hyperbolic tangent, weights initialized with values near zero result in roughly linear behaviour leading to the vanishing gradients problem where the gradients become locally stuck in the most flat part of these function derivatives. Vanished gradients are hard to solve, therefore it is suggested by the literature to avoid near zero random weight initialization when using sigmoid or hyperbolic tangent activation functions."
      ]
    },
    {
      "cell_type": "markdown",
      "id": "68ca18f0",
      "metadata": {
        "id": "68ca18f0"
      },
      "source": [
        "## 2. Neural Networks\n",
        "\n",
        "### (Python Exercise)"
      ]
    },
    {
      "cell_type": "markdown",
      "id": "afc50814",
      "metadata": {
        "id": "afc50814"
      },
      "source": [
        "Consider the `heightWeightData.txt` dataset that you have used in the Lab classes. You will use this data to build a Neural Network classifier that predicts the sex of an individual given their height and weight."
      ]
    },
    {
      "cell_type": "markdown",
      "id": "1201ad8f",
      "metadata": {
        "id": "1201ad8f"
      },
      "source": [
        "**a)** Train a fully-connected neural network classifier, with less than **20 parameters**, **using only the first 120 rows** of the dataset as training data. You should use the Keras framework. Utilize sigmoid as the non-linearity function, SGD as the optimizer, a batch size of 120, and a learning rate of 0,001. Do not change other configuration besides the number and size of the hidden layers, and the others previously mentioned. **Print the values of the learned parameters.**"
      ]
    },
    {
      "cell_type": "code",
      "execution_count": 1,
      "id": "596173f6",
      "metadata": {
        "id": "596173f6"
      },
      "outputs": [
        {
          "name": "stderr",
          "output_type": "stream",
          "text": [
            "2022-12-12 18:47:34.651094: W tensorflow/stream_executor/platform/default/dso_loader.cc:59] Could not load dynamic library 'libcudart.so.10.1'; dlerror: libcudart.so.10.1: cannot open shared object file: No such file or directory; LD_LIBRARY_PATH: /opt/ros/noetic/lib\n",
            "2022-12-12 18:47:34.651124: I tensorflow/stream_executor/cuda/cudart_stub.cc:29] Ignore above cudart dlerror if you do not have a GPU set up on your machine.\n",
            "2022-12-12 18:47:36.541002: W tensorflow/stream_executor/platform/default/dso_loader.cc:59] Could not load dynamic library 'libcuda.so.1'; dlerror: libcuda.so.1: cannot open shared object file: No such file or directory; LD_LIBRARY_PATH: /opt/ros/noetic/lib\n",
            "2022-12-12 18:47:36.541028: W tensorflow/stream_executor/cuda/cuda_driver.cc:312] failed call to cuInit: UNKNOWN ERROR (303)\n",
            "2022-12-12 18:47:36.541047: I tensorflow/stream_executor/cuda/cuda_diagnostics.cc:156] kernel driver does not appear to be running on this host (fsn9-ThinkPad-T450): /proc/driver/nvidia/version does not exist\n",
            "2022-12-12 18:47:36.541229: I tensorflow/core/platform/cpu_feature_guard.cc:142] This TensorFlow binary is optimized with oneAPI Deep Neural Network Library (oneDNN)to use the following CPU instructions in performance-critical operations:  AVX2 FMA\n",
            "To enable them in other operations, rebuild TensorFlow with the appropriate compiler flags.\n",
            "2022-12-12 18:47:36.564171: I tensorflow/core/platform/profile_utils/cpu_utils.cc:104] CPU Frequency: 2593925000 Hz\n",
            "2022-12-12 18:47:36.565205: I tensorflow/compiler/xla/service/service.cc:168] XLA service 0x65af9b0 initialized for platform Host (this does not guarantee that XLA will be used). Devices:\n",
            "2022-12-12 18:47:36.565278: I tensorflow/compiler/xla/service/service.cc:176]   StreamExecutor device (0): Host, Default Version\n"
          ]
        },
        {
          "name": "stdout",
          "output_type": "stream",
          "text": [
            "Model: \"sequential\"\n",
            "_________________________________________________________________\n",
            "Layer (type)                 Output Shape              Param #   \n",
            "=================================================================\n",
            "layer1 (Dense)               (None, 3)                 9         \n",
            "_________________________________________________________________\n",
            "layer2 (Dense)               (None, 2)                 8         \n",
            "=================================================================\n",
            "Total params: 17\n",
            "Trainable params: 17\n",
            "Non-trainable params: 0\n",
            "_________________________________________________________________\n",
            "Summary of the model:  None\n",
            "Epoch 1/30\n",
            "1/1 - 0s - loss: 0.7665 - sparse_categorical_accuracy: 0.3833\n",
            "Epoch 2/30\n",
            "1/1 - 0s - loss: 0.7665 - sparse_categorical_accuracy: 0.3833\n",
            "Epoch 3/30\n",
            "1/1 - 0s - loss: 0.7665 - sparse_categorical_accuracy: 0.3833\n",
            "Epoch 4/30\n",
            "1/1 - 0s - loss: 0.7665 - sparse_categorical_accuracy: 0.3833\n",
            "Epoch 5/30\n",
            "1/1 - 0s - loss: 0.7665 - sparse_categorical_accuracy: 0.3833\n",
            "Epoch 6/30\n",
            "1/1 - 0s - loss: 0.7665 - sparse_categorical_accuracy: 0.3833\n",
            "Epoch 7/30\n",
            "1/1 - 0s - loss: 0.7664 - sparse_categorical_accuracy: 0.3833\n",
            "Epoch 8/30\n",
            "1/1 - 0s - loss: 0.7664 - sparse_categorical_accuracy: 0.3833\n",
            "Epoch 9/30\n",
            "1/1 - 0s - loss: 0.7664 - sparse_categorical_accuracy: 0.3833\n",
            "Epoch 10/30\n",
            "1/1 - 0s - loss: 0.7664 - sparse_categorical_accuracy: 0.3833\n",
            "Epoch 11/30\n",
            "1/1 - 0s - loss: 0.7664 - sparse_categorical_accuracy: 0.3833\n",
            "Epoch 12/30\n",
            "1/1 - 0s - loss: 0.7664 - sparse_categorical_accuracy: 0.3833\n",
            "Epoch 13/30\n",
            "1/1 - 0s - loss: 0.7664 - sparse_categorical_accuracy: 0.3833\n",
            "Epoch 14/30\n",
            "1/1 - 0s - loss: 0.7664 - sparse_categorical_accuracy: 0.3833\n",
            "Epoch 15/30\n",
            "1/1 - 0s - loss: 0.7664 - sparse_categorical_accuracy: 0.3833\n",
            "Epoch 16/30\n",
            "1/1 - 0s - loss: 0.7664 - sparse_categorical_accuracy: 0.3833\n",
            "Epoch 17/30\n",
            "1/1 - 0s - loss: 0.7664 - sparse_categorical_accuracy: 0.3833\n",
            "Epoch 18/30\n",
            "1/1 - 0s - loss: 0.7664 - sparse_categorical_accuracy: 0.3833\n",
            "Epoch 19/30\n",
            "1/1 - 0s - loss: 0.7663 - sparse_categorical_accuracy: 0.3833\n",
            "Epoch 20/30\n",
            "1/1 - 0s - loss: 0.7663 - sparse_categorical_accuracy: 0.3833\n",
            "Epoch 21/30\n",
            "1/1 - 0s - loss: 0.7663 - sparse_categorical_accuracy: 0.3833\n",
            "Epoch 22/30\n",
            "1/1 - 0s - loss: 0.7663 - sparse_categorical_accuracy: 0.3833\n",
            "Epoch 23/30\n",
            "1/1 - 0s - loss: 0.7663 - sparse_categorical_accuracy: 0.3833\n",
            "Epoch 24/30\n",
            "1/1 - 0s - loss: 0.7663 - sparse_categorical_accuracy: 0.3833\n",
            "Epoch 25/30\n",
            "1/1 - 0s - loss: 0.7663 - sparse_categorical_accuracy: 0.3833\n",
            "Epoch 26/30\n",
            "1/1 - 0s - loss: 0.7663 - sparse_categorical_accuracy: 0.3833\n",
            "Epoch 27/30\n",
            "1/1 - 0s - loss: 0.7663 - sparse_categorical_accuracy: 0.3833\n",
            "Epoch 28/30\n",
            "1/1 - 0s - loss: 0.7663 - sparse_categorical_accuracy: 0.3833\n",
            "Epoch 29/30\n",
            "1/1 - 0s - loss: 0.7663 - sparse_categorical_accuracy: 0.3833\n",
            "Epoch 30/30\n",
            "1/1 - 0s - loss: 0.7663 - sparse_categorical_accuracy: 0.3833\n",
            "Learned parameters:\n",
            "Weights of layer layer1: [[-0.00820297 -0.62430657  0.5587773 ]\n",
            " [-0.59341443  0.03855874 -0.50857774]]\n",
            "Biases of layer layer1: [-2.84464063e-17  2.23324782e-42  0.00000000e+00]\n",
            "Weights of layer layer2: [[ 0.14563405 -0.05639889]\n",
            " [-0.37694819  0.36619439]\n",
            " [ 0.87243936 -0.97092598]]\n",
            "Biases of layer layer2: [-0.00138862  0.00133095]\n"
          ]
        }
      ],
      "source": [
        "import tensorflow as tf\n",
        "from tensorflow import keras\n",
        "from tensorflow.keras import layers\n",
        "import pandas as pd\n",
        "from tensorflow.keras.utils import to_categorical\n",
        "\n",
        "# 1. Define hyperparameters\n",
        "lr, batch_size, epochs = 1e-3, 120, 30\n",
        "\n",
        "# 2. Get data\n",
        "data = pd.read_csv('heightWeightData.txt', sep = \",\", header = None)\n",
        "x_train, y_train = data.iloc[:120,1:].to_numpy(copy = True).reshape(-1,2), (data.iloc[:120,0].to_numpy(copy = True) - 1).reshape(-1,1).astype(\"int32\")\n",
        "#train_dataset = tf.data.Dataset.from_tensor_slices((x_train, y_train))\n",
        "#train_dataset = train_dataset.shuffle(buffer_size=1024).batch(batch_size)\n",
        "\n",
        "# 3. Define optimizer\n",
        "optimizer = keras.optimizers.SGD(learning_rate=lr)\n",
        "\n",
        "# 4. Define loss function\n",
        "loss_fn = keras.losses.SparseCategoricalCrossentropy(from_logits = True)\n",
        "\n",
        "# 5. Define metrics\n",
        "metrics = keras.metrics.SparseCategoricalAccuracy()\n",
        "\n",
        "# 6. Build the model\n",
        "tf.keras.backend.set_floatx('float64')\n",
        "model = keras.Sequential(\n",
        "    [\n",
        "        layers.Dense(3, input_shape = (2,), activation=\"sigmoid\", name=\"layer1\"),\n",
        "        layers.Dense(2, activation=\"sigmoid\", name=\"layer2\")\n",
        "    ]\n",
        ")\n",
        "print('Summary of the model: ', model.summary())\n",
        "\n",
        "# 7. Compile the keras model\n",
        "model.compile(loss=loss_fn, optimizer=optimizer, metrics=[metrics])\n",
        "\n",
        "# 8. Train the model\n",
        "model.fit(x=x_train, y=y_train, epochs=epochs, batch_size=batch_size, verbose = 2)\n",
        "\n",
        "# 9. Print the learned weights\n",
        "print('Learned parameters:')\n",
        "for i, layer in enumerate(model.layers):\n",
        "    print(f'Weights of layer {layer.name}: {layer.get_weights()[0]}')\n",
        "    print(f'Biases of layer {layer.name}: {layer.get_weights()[1]}')\n",
        "    "
      ]
    },
    {
      "cell_type": "markdown",
      "id": "2465b356",
      "metadata": {
        "id": "2465b356"
      },
      "source": [
        "**b)** Compute the predictions of your model in the remaining 90 rows of the dataset and report the classification accuracy of your model in this test set."
      ]
    },
    {
      "cell_type": "code",
      "execution_count": 2,
      "id": "984e8b04",
      "metadata": {
        "id": "984e8b04"
      },
      "outputs": [
        {
          "name": "stdout",
          "output_type": "stream",
          "text": [
            "Accuracy: 0.30000001192092896\n"
          ]
        }
      ],
      "source": [
        "x_test, y_test = data.iloc[-90:,1:].to_numpy().reshape(-1,2), (data.iloc[-90:,0].to_numpy() - 1).reshape(-1,1).astype(\"int32\")\n",
        "evaluation = model.evaluate(x_test, y_test, verbose = 0)\n",
        "preds = model.predict(x_test)\n",
        "print(f'Accuracy: {evaluation[1]}')"
      ]
    },
    {
      "cell_type": "markdown",
      "id": "593edb81",
      "metadata": {
        "id": "593edb81"
      },
      "source": [
        "**c)** Repeat a) and b) with a network with up to **400 parameters**. There is no need to print the learned parameters."
      ]
    },
    {
      "cell_type": "code",
      "execution_count": 3,
      "id": "Nl4cayJgGnqo",
      "metadata": {
        "id": "Nl4cayJgGnqo"
      },
      "outputs": [],
      "source": [
        "# YOUR CODE HERE"
      ]
    },
    {
      "cell_type": "markdown",
      "id": "mAOva1JIG2gR",
      "metadata": {
        "id": "mAOva1JIG2gR"
      },
      "source": [
        "**d)** Repeat c), but add $L_2$ regularization.  Try the all following **$\\lambda \\in$  {0.1, 0.3, 0.5, 0.9}.**"
      ]
    },
    {
      "cell_type": "code",
      "execution_count": 4,
      "id": "923nEh10G3Jd",
      "metadata": {
        "id": "923nEh10G3Jd"
      },
      "outputs": [],
      "source": [
        "# YOUR CODE HERE"
      ]
    },
    {
      "cell_type": "markdown",
      "id": "YDr9-yJdJN4Y",
      "metadata": {
        "id": "YDr9-yJdJN4Y"
      },
      "source": [
        "**e)** Repeat c), but increase the learning rate to the following values {0.01, 10, 100}. Can you explain the behaviour of the model?  "
      ]
    },
    {
      "cell_type": "code",
      "execution_count": 5,
      "id": "hMaI2ia9JNhm",
      "metadata": {
        "id": "hMaI2ia9JNhm"
      },
      "outputs": [],
      "source": [
        "# YOUR CODE HERE"
      ]
    }
  ],
  "metadata": {
    "colab": {
      "provenance": []
    },
    "kernelspec": {
      "display_name": "Python 3.8.10 64-bit",
      "language": "python",
      "name": "python3"
    },
    "language_info": {
      "codemirror_mode": {
        "name": "ipython",
        "version": 3
      },
      "file_extension": ".py",
      "mimetype": "text/x-python",
      "name": "python",
      "nbconvert_exporter": "python",
      "pygments_lexer": "ipython3",
      "version": "3.8.10 (default, Nov 14 2022, 12:59:47) \n[GCC 9.4.0]"
    },
    "vscode": {
      "interpreter": {
        "hash": "916dbcbb3f70747c44a77c7bcd40155683ae19c65e1c03b4aa3499c5328201f1"
      }
    }
  },
  "nbformat": 4,
  "nbformat_minor": 5
}
