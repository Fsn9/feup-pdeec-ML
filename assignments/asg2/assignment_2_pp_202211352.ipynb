{
 "cells": [
  {
   "cell_type": "markdown",
   "id": "32620509",
   "metadata": {},
   "source": [
    "# Assignment 2"
   ]
  },
  {
   "cell_type": "markdown",
   "id": "a0fc9349",
   "metadata": {},
   "source": [
    "$\\color{blue}{Name\\text{ }Student\\text{ }1:} \\text{João Dionísio (202111348)}$\n",
    "\n",
    "$\\color{blue}{Name\\text{ }Student\\text{ }2:} \\text{Pedro Pereira (202111352)}$"
   ]
  },
  {
   "cell_type": "markdown",
   "id": "c03c866e",
   "metadata": {},
   "source": [
    "## 1. Generative classifiers"
   ]
  },
  {
   "cell_type": "markdown",
   "id": "38343624",
   "metadata": {},
   "source": [
    "Consider a classification problem with a target variable $y \\in \\{0, 1\\}$ and input features $\\boldsymbol{x} = (x_1\\; x_2\\; x_3\\; x_4)^T$, where $x_1 \\in \\{0, 1\\}$, $x_2 \\in \\{0, 1\\}$, and $(x_3, x_4) \\in \\mathbb{R}^2$. Further assume that:\n",
    "- $(x_1, x_2)$ is conditionally independent of $(x_3, x_4)$ given $y$;\n",
    "- $x_1$ and $x_2$ are **dependent** given $y$;\n",
    "- $x_3$ and $x_4$ are **dependent** given $y$;\n",
    "- the conditional distributions of $(x_3, x_4)$ given $y$ are Gaussian."
   ]
  },
  {
   "cell_type": "markdown",
   "id": "84c2977c",
   "metadata": {},
   "source": [
    "### 1.1"
   ]
  },
  {
   "cell_type": "markdown",
   "id": "e6081895",
   "metadata": {},
   "source": [
    "**a)** Enumerate the parameters of the MAP classifier: $$\\hat{y} = \\text{arg} \\max_{y \\in \\{0, 1\\}} p(y)p(\\boldsymbol{x} \\mid y),$$ and indicate the dimension of each parameter."
   ]
  },
  {
   "cell_type": "markdown",
   "id": "8fc08105",
   "metadata": {},
   "source": [
    "$\\textbf{Resolution}$\n",
    "\n",
    "Since ($x_1, x_2$) is conditionally independent of ($x_3, x_4$) given $\\textit{y}$, assuming Naive Bayes, the class-conditional density $p(\\boldsymbol{x} | y)$ can be rewritten as:\n",
    "\n",
    "$$\n",
    "p(\\boldsymbol{x} | y) = p(x_1, x_2 | y) \\cdot p(x_3, x_4 | y),\n",
    "$$\n",
    "\n",
    "and the MAP classifier becomes:\n",
    "\n",
    "$$\n",
    "\\hat{y} = \\arg \\max_{y \\in \\{0, 1\\}} p(y) \\cdot p(x_1, x_2 | y) \\cdot p(x_3, x_4 | y).\n",
    "$$\n",
    "\n",
    "To determine $p(y)$, we only need to estimate $p(y=1)$ since $p(y=0)+p(y=1)=1$. Thus, since $p(y) \\sim \\mathcal{B}(p)$, the only parameter necessary to estimate is the probability of success $p(y=1)$, which is a scalar.\n",
    "\n",
    "For $p(x_1, x_2 | y)$, we need to determine the probabilities for each combination of $x_1$ and $x_2$ ($2^2$), once for $y=0$ and once for $y=1$ ($2^2 * 2$). Since the sum of these combinations needs to equal 1 for each $y=0$ and $y=1$, in reality, we only need to estimate 6 parameters ($(2^2 -1) * 2$). We can think of it as a multinomial distribution, where we need to obtain the probability of each combination given $y$, which are scalars.\n",
    "\n",
    "Finally, in the case of $p(x_3, x_4 | y)$, we need to determine the same number of parameters as for $p(x_1, x_2 | y)$. However, thinking of $p(x_3, x_4 | y)$ as a multivariate Gaussian, $p(x_1, x_2 | y) \\sim \\mathcal{N}(\\mu, \\Sigma)$, we need to estimate the average of each feature, $\\mu \\in \\mathbb{R}^{2}$, and the covariance matrix, $\\Sigma \\in \\mathbb{R}^{2\\times 2}$, which has dimension 2x2. Since $\\Sigma$ is symmetrical we only need to estimate 3 parameters ($\\Sigma_{11}$, $\\Sigma_{22}$ and $\\Sigma_{12}=\\Sigma_{21}$). These parameters need to be estimated for each class, $y = 0$ and $y = 1$.\n",
    "\n",
    "In total we need to estimate 17 parameters."
   ]
  },
  {
   "cell_type": "markdown",
   "id": "41873490",
   "metadata": {},
   "source": [
    "**b)** Given a dataset $\\{(\\boldsymbol{x}^{(i)}, y^{(i)})\\}_{i=1}^n$, write the expressions for the maximum likelihood estimates of the parameters enumerated in the previous question."
   ]
  },
  {
   "cell_type": "markdown",
   "id": "7a2a6e5d",
   "metadata": {},
   "source": [
    "$\\textbf{Resolution}$\n",
    "\n",
    "$\\textit{MLE for binomial distribution:}$\n",
    "\n",
    "Considering $n$ data points, the log likelihood function can be written as:\n",
    "\n",
    "$$\n",
    "LL(p) = \\sum_{i=1}^{n} \\left[ log \\left( p^{y_i} (1-p)^{1-y_i} \\right) \\right] = \\\\\n",
    "\\sum_{i=1}^{n} \\left[ y_i log (p) + (1 - y_i) log (1-p) \\right] = \\\\\n",
    "Y log (p) + (n - Y) log (1-p) \\quad \\quad \\text{where } Y =  \\sum_{i=1}^{n} y_i\n",
    "$$\n",
    "\n",
    "To maximize the log likelihood, we take its derivative as a function of $p$ and set it to zero:\n",
    "\n",
    "$$\n",
    "\\frac{\\partial LL(p)}{\\partial p} = Y \\frac{1}{p} + (n - Y) \\frac{-1}{n-p} = 0 \\Rightarrow \\\\\n",
    "p = \\frac{Y}{n}\n",
    "$$\n",
    "\n",
    "This is the sample mean.\n",
    "\n",
    "$\\textit{MLE for multinomial distribution:}$\n",
    "\n",
    "We can think of $p(x_1, x_2 | y)$ as two multinomial distributions where there are four possible scenarios correspondent to the combinations between $x_1$ and $x_2$, one for each class $y$. Therefore we can take once again the log likelihood function of a multinomial distribution as:\n",
    "\n",
    "$$\n",
    "LL(p) = log \\left[ n! \\left( \\prod_{i=1}^{m} \\frac{p_i^{x_i}}{x_i!} \\right) \\right] = \\\\\n",
    "log(n!) + \\sum_{i=1}^{m} x_i log(p_i) - \\sum_{i=1}^{m} x_i log(x_i!)\n",
    "$$\n",
    "\n",
    "where $m$ is the number of combinations and $n$ is the number of data points in the dataset given the class. Before differentiating the previous equation, we need to introduce the constrain that the sum of all the probabities $p_i$ given the class sum up to 1:\n",
    "\n",
    "$$\n",
    "\\sum_{i=1}^{m} p_i = 1\n",
    "$$\n",
    "\n",
    "We can now constraint our likelihood function considering the lagrangian:\n",
    "\n",
    "$$\n",
    "\\mathcal{L}(p) = LL(p) + \\lambda (1 - \\sum_{i=1}^{m} p_i)\n",
    "$$\n",
    "\n",
    "Differentiating the lagrangian with respect to $p_i$:\n",
    "\n",
    "$$\n",
    "\\frac{\\partial \\mathcal{L}(p)}{\\partial p} = \\frac{\\partial LL(p)}{\\partial p_i} - \\lambda = \\frac{x_i}{p_i} - \\lambda\n",
    "$$\n",
    "\n",
    "Setting the lagrangian to zero:\n",
    "\n",
    "$$\n",
    "p_i = \\frac{x_i}{\\lambda}\n",
    "$$\n",
    "\n",
    "To solve for $\\lambda$, we sum both sides and use of our initial constraint:\n",
    "\n",
    "$$\n",
    "\\sum_{i=1}^{m} p_i = \\sum_{i=1}^{m} \\frac{x_i}{\\lambda} \\Rightarrow 1 = \\frac{1}{\\lambda} \\sum_{i=1}^{m} x_i \\Rightarrow \\\\\n",
    "1 = \\frac{1}{\\lambda} n \\Rightarrow \\lambda = n\n",
    "$$\n",
    "\n",
    "giving the MLE for $p_i$:\n",
    "\n",
    "$$\n",
    "p_i = \\frac{x_i}{n}\n",
    "$$\n",
    "\n",
    "So, for example, the probability of $x_1 = 0$ and $x_2 = 0$ knowing that $y = 0$ ($p(x_1=0, x_2=0 | y=0)$) is given by:\n",
    "\n",
    "$$\n",
    "p(x_1=0, x_2=0 | y=0) = \\frac{\\text{number of data points where } x_1 = 0, x_2 = 0 \\text{ and } y = 0}{\\text{number of data points where } y = 0}\n",
    "$$\n",
    "\n",
    "$\\textit{MLE for multivariate Gaussian distribution:}$\n",
    "\n",
    "The log likelihood function of a multivariate gaussian can be written as:\n",
    "\n",
    "$$\n",
    "LL(\\mu, \\Sigma) = - \\frac{N}{2} log(|\\Sigma|) - \\frac{1}{2} \\sum_{i=1}{N} (x_i - \\mu)^T \\Sigma^{-1} (x_i - \\mu)\n",
    "$$\n",
    "\n",
    "Taking the derivative with respect to $\\mu$ and setting to zero, we obtain:\n",
    "\n",
    "$$\n",
    "\\hat{\\mu} = \\frac{1}{N} \\sum_{i=1}^{N} x_i\n",
    "$$\n",
    "\n",
    "while, for $\\Sigma$ we obtain:\n",
    "\n",
    "$$\n",
    "\\hat{\\Sigma} = \\frac{1}{N} \\sum_n (x_n - \\hat{\\mu}) (x_n - \\hat{\\mu})^T\n",
    "$$"
   ]
  },
  {
   "cell_type": "markdown",
   "id": "2c45eaf5",
   "metadata": {},
   "source": [
    "### 1.2"
   ]
  },
  {
   "cell_type": "markdown",
   "id": "9823efc7",
   "metadata": {},
   "source": [
    "Now, you will implement this classifier in Python. The classifier skeleton is provided below in the class `Classifier`. You may implement additional auxiliary methods that you find useful."
   ]
  },
  {
   "cell_type": "code",
   "execution_count": 29,
   "id": "67d1a9a6",
   "metadata": {},
   "outputs": [],
   "source": [
    "# Import the necessary libraries #\n",
    "import numpy as np\n",
    "from math import pi, exp\n",
    "\n",
    "class Classifier:\n",
    "    def fit(self, X, y):\n",
    "        '''\n",
    "        Inputs:\n",
    "            X - np.array with shape (num_examples_train, 4)\n",
    "            y - np.array with shape (num_examples_train,)\n",
    "        '''\n",
    "        # Function to compute the MLE estimates of a Multivariate Gaussian #\n",
    "        def mv_gauss(X):\n",
    "            # Means of the features #\n",
    "            x_mean = np.mean(X, axis = 0)\n",
    "            \n",
    "            # Covariance matrix of the features #\n",
    "            x_cov = np.cov(X, rowvar=False)\n",
    "            \n",
    "            # Return the means and covariance matrix #\n",
    "            return x_mean, x_cov\n",
    "\n",
    "        # Function to compute the MLE estimates of the Multinomial Distribution #\n",
    "        def multinomial(X):\n",
    "            # Possible combinations between features #\n",
    "            p = {(0,0): float(0),\n",
    "                 (0,1): float(0),\n",
    "                 (1,1): float(0),\n",
    "                 (1,0): float(0),}\n",
    "\n",
    "            # Split the dataset #\n",
    "            X0x = X[X[:,0] == 0]\n",
    "            X1x = X[X[:,0] == 1]\n",
    "            \n",
    "            # Probabilities for the possible combinations between features #\n",
    "            p[(0,0)] = X0x[X0x[:,1]== 0].shape[0] / X.shape[0]\n",
    "            p[(0,1)] = X0x[X0x[:,1]== 1].shape[0] / X.shape[0]\n",
    "            p[(1,1)] = X1x[X1x[:,1]== 1].shape[0] / X.shape[0]\n",
    "            p[(1,0)] = 1 - (p[(0,0)] + p[(0,1)] + p[(1,1)])\n",
    "            \n",
    "            # Return the dictionary of features #\n",
    "            return p\n",
    "\n",
    "        # Split the labels dataset into two classes #\n",
    "        y0 = y[y == 0]  # Dataset where y = 0\n",
    "        y1 = y[y == 1]  # Dataset where y = 1\n",
    "        \n",
    "        # Class prior probabilities #\n",
    "        self.prior_y0 = y0.shape[0] / y.shape[0]\n",
    "        self.prior_y1 = y1.shape[0] / y.shape[0]\n",
    "        \n",
    "        # Split the features dataset into two classes # \n",
    "        X_y0 = X[y==0]\n",
    "        X_y1 = X[y==1]\n",
    "        \n",
    "        # MLE estimates for the Multivariate Gaussian features #\n",
    "        self.y0x34_mean, self.y0x34_cov = mv_gauss(X_y0[:,2:4])\n",
    "        self.y1x34_mean, self.y1x34_cov = mv_gauss(X_y1[:,2:4])\n",
    "\n",
    "        # MLE estimates for the Multinomial features #\n",
    "        self.p0 = multinomial(X_y0[:,0:2])\n",
    "        self.p1 = multinomial(X_y1[:,0:2])\n",
    "\n",
    "    def predict(self, X):\n",
    "        '''\n",
    "        Inputs:\n",
    "            X - np.array with shape (num_examples_test, 4)\n",
    "        \n",
    "        Outputs:\n",
    "            ypred - np.array with shape (num_examples_test,)\n",
    "            posteriors - np.array with shape (num_examples_test, 2)\n",
    "        '''\n",
    "        \n",
    "        # Function to compute the probability density function of a Multivariate Gaussian #\n",
    "        def Multivariate_Gaussian(X, mean, cov):\n",
    "            # Compute the probability #\n",
    "            const = 2*pi**(-1)*np.linalg.det(cov)**(-1/2)\n",
    "            exp_ = exp(-1/2*(np.dot(np.dot((X-mean).T, np.linalg.inv(cov)),(X-mean))))\n",
    "            prob = const*exp_\n",
    "            \n",
    "            # Return the probability #\n",
    "            return prob\n",
    "\n",
    "        # Initialize the output variables #\n",
    "        posteriors = np.matrix([None,None])\n",
    "        ypred = np.zeros((X.shape[0]))\n",
    "        \n",
    "        # Perfom the predictions for each point in the test dataset #\n",
    "        for i in range(0, X.shape[0]):\n",
    "            # Class conditionals for features x1 and x2 #\n",
    "            mn_pred_0 =  self.p0[(X[i,0],X[i,1])]\n",
    "            mn_pred_1 =  self.p1[(X[i,0],X[i,1])]\n",
    "            \n",
    "            # Class conditionals for features x3 and x4 #\n",
    "            g_pred_0 = Multivariate_Gaussian(X[i,2:4], self.y0x34_mean, self.y0x34_cov)\n",
    "            g_pred_1 = Multivariate_Gaussian(X[i,2:4], self.y1x34_mean, self.y1x34_cov)\n",
    "            \n",
    "            # Determine posteriors #\n",
    "            pred_0 = mn_pred_0 * g_pred_0 * self.prior_y0\n",
    "            pred_1 = mn_pred_1 * g_pred_1 * self.prior_y1\n",
    "            \n",
    "            # Normalize the posteriors #\n",
    "            sum_ = pred_0 + pred_1\n",
    "            pred_0 = pred_0 / sum_\n",
    "            pred_1 = pred_1 / sum_\n",
    "\n",
    "            # Save the posteriors #\n",
    "            posteriors = np.concatenate((posteriors, np.matrix([pred_0, pred_1])),axis=0)\n",
    "            \n",
    "            # Make predictions #\n",
    "            if pred_0 > pred_1:\n",
    "                ypred[i] = 0\n",
    "            elif pred_0 < pred_1:\n",
    "                ypred[i] = 1\n",
    "            else:\n",
    "                # If the posteriors are equal, choose ramdomly #\n",
    "                ypred[i] = np.random.randint(0,1)\n",
    "                \n",
    "        posteriors = np.delete(posteriors,[0],axis=0)\n",
    "        \n",
    "        # Return the outputs #\n",
    "        return ypred, posteriors"
   ]
  },
  {
   "cell_type": "markdown",
   "id": "6d2bf886",
   "metadata": {},
   "source": [
    "**N.B.:** In both a) and b), you should avoid for loops as much as possible by using vectorized NumPy operations and broadcasting."
   ]
  },
  {
   "cell_type": "markdown",
   "id": "2fe3261d",
   "metadata": {},
   "source": [
    "**a)** Implement the `fit` method, which receives as input two `np.array`s:\n",
    "- `X`, which contains the 4-dimensional training input examples $\\boldsymbol{x}^{(i)}$, one per row;\n",
    "- `y`, which contains the corresponding training labels $y^{(i)} \\in \\{0,1\\}$, one per row.\n",
    "\n",
    "This method should compute the maximum likelihood estimates of the model parameters and store them as class attributes."
   ]
  },
  {
   "cell_type": "markdown",
   "id": "314b8621",
   "metadata": {},
   "source": [
    "**b)** Implement the `predict` method, which receives as input one `np.array`:\n",
    "- `X`, which contains the 4-dimensional examples $\\boldsymbol{x}^{(i)}$ to be classified, one per row.\n",
    "\n",
    "This function should return two `np.array`s:\n",
    "- `ypred`, which should contain the labels predicted for each $\\boldsymbol{x}^{(i)}$, one per row.\n",
    "- `posteriors`, which should contain the posterior probabilities of each class given each $\\boldsymbol{x}^{(i)}$, one per row."
   ]
  },
  {
   "cell_type": "markdown",
   "id": "93e3bcac",
   "metadata": {},
   "source": [
    "If you have solved a) and b) correctly, the code below should run without errors and the reported test accuracy should be higher than 80%."
   ]
  },
  {
   "cell_type": "code",
   "execution_count": 31,
   "id": "b0780e01",
   "metadata": {},
   "outputs": [
    {
     "name": "stdout",
     "output_type": "stream",
     "text": [
      "Example 0:\n",
      "  posteriors = [[0.9821538212446846 0.01784617875531535]]\n",
      "  predicted class = 0.0\n",
      "  ground-truth class = 0\n",
      "\n",
      "Example 1:\n",
      "  posteriors = [[0.7679840555476175 0.23201594445238263]]\n",
      "  predicted class = 0.0\n",
      "  ground-truth class = 1\n",
      "\n",
      "Example 2:\n",
      "  posteriors = [[0.03193051652512521 0.9680694834748746]]\n",
      "  predicted class = 1.0\n",
      "  ground-truth class = 1\n",
      "\n",
      "Test accuracy = 92.0%\n"
     ]
    }
   ],
   "source": [
    "# read the data from file\n",
    "data = np.genfromtxt('ex1_data.txt')\n",
    "X, y = data[:, 0:4], data[:, 4].astype(int)\n",
    "\n",
    "# use the first 400 lines for training and the remaining 100 lines for testing\n",
    "Xtrain, ytrain = X[0:400], y[0:400]\n",
    "Xtest, ytest = X[400:], y[400:]\n",
    "\n",
    "# instantiate the classifier and train it\n",
    "classifier = Classifier()\n",
    "classifier.fit(Xtrain, ytrain)\n",
    "\n",
    "# get the predictions on the test data\n",
    "ypred, posteriors = classifier.predict(Xtest)\n",
    "print('Example 0:')\n",
    "print('  posteriors =', posteriors[0])\n",
    "print('  predicted class =', ypred[0])\n",
    "print('  ground-truth class =', ytest[0])\n",
    "print()\n",
    "print('Example 1:')\n",
    "print('  posteriors =', posteriors[1])\n",
    "print('  predicted class =', ypred[1])\n",
    "print('  ground-truth class =', ytest[1])\n",
    "print()\n",
    "print('Example 2:')\n",
    "print('  posteriors =', posteriors[2])\n",
    "print('  predicted class =', ypred[2])\n",
    "print('  ground-truth class =', ytest[2])\n",
    "print()\n",
    "\n",
    "# compute the accuracy on the test set\n",
    "acc = np.mean(ypred == ytest)\n",
    "print(f'Test accuracy = {100.*acc:.1f}%')"
   ]
  },
  {
   "cell_type": "markdown",
   "id": "68ca18f0",
   "metadata": {},
   "source": [
    "## 2. Logistic regression"
   ]
  },
  {
   "cell_type": "markdown",
   "id": "afc50814",
   "metadata": {},
   "source": [
    "Consider the `heightWeightData.txt` dataset that you have used in the Lab classes. You will use this data to build a Logistic Regression classifier that predicts the sex of an individual given their height and weight."
   ]
  },
  {
   "cell_type": "markdown",
   "id": "1201ad8f",
   "metadata": {},
   "source": [
    "**a)** Train a Logistic Regression classifier **using only the first 160 rows** of the dataset as training data. You may use Scikit-Learn (`sklearn.linear_model.LogisticRegression`). **Print the values of the learned parameters.**"
   ]
  },
  {
   "cell_type": "code",
   "execution_count": 13,
   "id": "596173f6",
   "metadata": {},
   "outputs": [
    {
     "name": "stdout",
     "output_type": "stream",
     "text": [
      "Interception (w0):\n",
      " [34.00288831]\n",
      "Coefficients (w1 and w2):\n",
      " [[-0.15294769 -0.10445359]]\n"
     ]
    }
   ],
   "source": [
    "# Import the necessary libraries\n",
    "import numpy as np\n",
    "import matplotlib.pyplot as plt\n",
    "from sklearn import linear_model\n",
    "\n",
    "# Read the data from the file and split the features from the labels #\n",
    "data = np.genfromtxt('heightWeightData.txt', delimiter=',')\n",
    "y, X = data[:, 0].astype(int), data[:, 1:3]\n",
    "\n",
    "# Split the data into the training and testing datasets #\n",
    "Xtrain, ytrain = X[0:160], y[0:160]\n",
    "Xtest, ytest = X[160:], y[160:]\n",
    "\n",
    "# Apply a Logistic Regression to the training dataset #\n",
    "LogReg = linear_model.LogisticRegression()\n",
    "LogReg.fit(Xtrain, ytrain)\n",
    "\n",
    "# Learned parameters #\n",
    "print('Interception (w0):\\n', LogReg.intercept_)\n",
    "print('Coefficients (w1 and w2):\\n', LogReg.coef_)\n",
    "\n",
    "w0 = LogReg.intercept_\n",
    "w1 = LogReg.coef_[:, 0]\n",
    "w2 = LogReg.coef_[:, 1]"
   ]
  },
  {
   "cell_type": "markdown",
   "id": "2465b356",
   "metadata": {},
   "source": [
    "**b)** Compute the predictions of your model in the remaining 50 rows of the dataset and report the classification accuracy of your model in this test set."
   ]
  },
  {
   "cell_type": "code",
   "execution_count": 14,
   "id": "984e8b04",
   "metadata": {},
   "outputs": [
    {
     "name": "stdout",
     "output_type": "stream",
     "text": [
      "Test accuracy = 92.0%\n"
     ]
    }
   ],
   "source": [
    "# Make predictions #\n",
    "predictions = LogReg.predict(Xtest)\n",
    "\n",
    "# Compute the accuracy of the model #\n",
    "score = LogReg.score(Xtest, ytest)\n",
    "print(f'Test accuracy = {100.*score:.1f}%')"
   ]
  },
  {
   "cell_type": "markdown",
   "id": "593edb81",
   "metadata": {},
   "source": [
    "**c)** Using the parameter values printed in a), write the equation of the decision boundary of your model."
   ]
  },
  {
   "cell_type": "code",
   "execution_count": 10,
   "id": "291b064f",
   "metadata": {},
   "outputs": [
    {
     "name": "stdout",
     "output_type": "stream",
     "text": [
      "Decision boundary equation:\n",
      " y =  [34.00288831]  +  [-0.15294769] * X_1 +  [-0.10445359] * X_2\n"
     ]
    },
    {
     "data": {
      "image/png": "[encoded data removed]",
      "text/plain": [
       "<Figure size 432x288 with 1 Axes>"
      ]
     },
     "metadata": {
      "needs_background": "light"
     },
     "output_type": "display_data"
    }
   ],
   "source": [
    "# Decision boundary equation #\n",
    "print('Decision boundary equation:\\n', 'y = ', w0, ' + ', w1, '* X_1 + ', w2, '* X_2')\n",
    "\n",
    "# Split the training data into classes #\n",
    "Xtrain1 = Xtrain[ytrain == 1]\n",
    "Xtrain2 = Xtrain[ytrain == 2]\n",
    "\n",
    "# -> Plotting the decision boundary <- #\n",
    "# Find the maximum and minimum values for each feature of the training dataset #\n",
    "x_min, x_max = Xtrain[:, 0].min() - 10, Xtrain[:, 0].max() + 10\n",
    "y_min, y_max = Xtrain[:, 1].min() - 10, Xtrain[:, 1].max() + 10\n",
    "\n",
    "# Create a meshgrid for the dataset #\n",
    "xx_train, yy_train = np.meshgrid(np.arange(x_min, x_max, 0.1),\n",
    "                                 np.arange(y_min, y_max, 0.1))\n",
    "\n",
    "# Create the boundary #\n",
    "Z_train = LogReg.predict(np.c_[xx_train.ravel(), yy_train.ravel()])\n",
    "Z_train = Z_train.reshape(xx_train.shape)\n",
    "\n",
    "# Plot the decision boundary #\n",
    "plt.contourf(xx_train, yy_train, Z_train)\n",
    "\n",
    "# Plot the training dataset for the two classes #\n",
    "plt.scatter(Xtrain1[:, 0], Xtrain1[:, 1], color='orange', label='Male Class')\n",
    "plt.scatter(Xtrain2[:, 0], Xtrain2[:, 1], color='blue', label='Female Class')\n",
    "plt.title('Decision boundary for the training dataset')\n",
    "plt.xlabel('Height (X1)')\n",
    "plt.ylabel('Weight (X2)')\n",
    "plt.legend()\n",
    "plt.show()"
   ]
  }
 ],
 "metadata": {
  "kernelspec": {
   "display_name": "Python 3 (ipykernel)",
   "language": "python",
   "name": "python3"
  },
  "language_info": {
   "codemirror_mode": {
    "name": "ipython",
    "version": 3
   },
   "file_extension": ".py",
   "mimetype": "text/x-python",
   "name": "python",
   "nbconvert_exporter": "python",
   "pygments_lexer": "ipython3",
   "version": "3.8.10"
  },
  "vscode": {
   "interpreter": {
    "hash": "2b14cec2ba76430732965a15b26b591c3f84413fa8b3cfe24db625605bfdb2ac"
   }
  }
 },
 "nbformat": 4,
 "nbformat_minor": 5
}
